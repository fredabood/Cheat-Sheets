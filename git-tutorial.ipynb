{
 "cells": [
  {
   "cell_type": "markdown",
   "metadata": {},
   "source": [
    "# Fred's Git Tutorial"
   ]
  },
  {
   "cell_type": "markdown",
   "metadata": {},
   "source": [
    "This is an optional step to create a new directory where all your projects/repos can be stored.\n",
    "\n",
    "I have a directory in my home directory called Projects (~/Projects) where I store all my repositories."
   ]
  },
  {
   "cell_type": "code",
   "execution_count": null,
   "metadata": {},
   "outputs": [],
   "source": [
    "pwd;                    # pwd stands for 'print working directory', this will print your current path\n",
    "mkdir ~/Repositories;   # creating a folder for all your projcects\n",
    "cd ~/Repositories;      # navigating into said folder\n",
    "pwd;                    # printing the directory again "
   ]
  },
  {
   "cell_type": "markdown",
   "metadata": {},
   "source": [
    "## Global Git Configuration\n",
    "\n",
    "This should be done before working on specific repositories."
   ]
  },
  {
   "cell_type": "code",
   "execution_count": null,
   "metadata": {
    "scrolled": true
   },
   "outputs": [],
   "source": [
    "git version;                                            # prints your git version\n",
    "git config --global user.name \"Fred Abood\";             # assigns your name as the user to your global git settings\n",
    "git config --global user.email \"fred@fredabood.com\";    # assigns your email to your global git settings\n",
    "git config --global --list;                             # lists all global git settings"
   ]
  },
  {
   "cell_type": "markdown",
   "metadata": {},
   "source": [
    "## This section covers the initiation of a git repository on your local machine.\n",
    "There are 2 ways to start a git repo on your local machine. You only need to pick one method for a given repository.\n",
    "They both require you to create the repo remotely (on Github/Gitlab) first."
   ]
  },
  {
   "cell_type": "markdown",
   "metadata": {},
   "source": [
    "#### Method 1:\n",
    "Create a git repo remotely then clone the repo and add all your files to the new directory."
   ]
  },
  {
   "cell_type": "code",
   "execution_count": 1,
   "metadata": {},
   "outputs": [
    {
     "name": "stdout",
     "output_type": "stream",
     "text": [
      "Cloning into 'git-cheat-sheet'...\n",
      "remote: Enumerating objects: 10, done.\u001b[K\n",
      "remote: Counting objects: 100% (10/10), done.\u001b[K\n",
      "remote: Compressing objects: 100% (8/8), done.\u001b[K\n",
      "remote: Total 10 (delta 3), reused 0 (delta 0)\u001b[K\n",
      "Receiving objects: 100% (10/10), done.\n",
      "Resolving deltas: 100% (3/3), done.\n",
      "example.txt        \u001b[1m\u001b[31mgit-cheat-sheet\u001b[39;49m\u001b[0m    git-tutorial.ipynb\n",
      "example.txt        git-tutorial.ipynb\n",
      "On branch master\n",
      "Your branch is up to date with 'origin/master'.\n",
      "\n",
      "nothing to commit, working tree clean\n"
     ]
    }
   ],
   "source": [
    "git clone git@gitlab.com:fredabood/git-cheat-sheet.git;     # cloning the remote repo to your local machine\n",
    "ls;                                                         # listing all files in your current working directory\n",
    "cd git-cheat-sheet;                                         # navigating into the git repo we just cloned\n",
    "ls;                                                         # listing all the files the repo\n",
    "git status;                                                 # checking the status of the repo against the master branch"
   ]
  },
  {
   "cell_type": "markdown",
   "metadata": {},
   "source": [
    "#### Method 2:\n",
    "\n",
    "Initiate the repo in the directory where your work currently lives, then assign the remote repo as the master branch."
   ]
  },
  {
   "cell_type": "code",
   "execution_count": null,
   "metadata": {},
   "outputs": [],
   "source": [
    "git init;                                                                # initiates a repo locally\n",
    "git add .;                                                               # adds all files to the repo\n",
    "git commit -m 'initial commit';                                          # commits all the files to the repo\n",
    "git remote add origin https://gitlab.com/fredabood/git-cheat-sheet.git;  # assigns a remote repo as the master branch\n",
    "git remote -v;                                                           # verifies the remote repository is there\n",
    "git push -u origin master                                                # pushes the commit to the remote repo"
   ]
  },
  {
   "cell_type": "markdown",
   "metadata": {},
   "source": [
    "## Example Commit\n",
    "\n",
    "This example that creates a new file, adds it to git, commits it to the repo, and pushes it to the master."
   ]
  },
  {
   "cell_type": "code",
   "execution_count": null,
   "metadata": {},
   "outputs": [],
   "source": [
    "echo \"Isn't git great?!\" >> example.txt;    # creating a text file that contains\n",
    "ls;                                         # verifying the creation of the text file\n",
    "cat example.txt;                            # verifying the contents of the text file\n",
    "git status;                                 # checking git status, the file we created is currently untracked.\n",
    "git add example.txt;                        # adding the text file to git\n",
    "git status;                                 # verifying the text file is now tracked\n",
    "git commit -m \"Adding example.txt file\";    # committing the file to git\n",
    "git status;                                 # check status to see it's been committed\n",
    "git push origin master;                     # pushing the commit to the master branch"
   ]
  },
  {
   "cell_type": "markdown",
   "metadata": {},
   "source": [
    "## Stringing Bash Commands Together\n",
    "\n",
    "Semicolons allow us to string commands together into a single line while still executing them sequentially."
   ]
  },
  {
   "cell_type": "code",
   "execution_count": null,
   "metadata": {},
   "outputs": [],
   "source": [
    "# Here we init a new repo locally, assign a remote master branch, add and commit the files, and push to the master in one line of code\n",
    "git init; git add .; git commit -m 'Initial Commit'; git remote add origin git@gitlab.com:fredabood/git-tutorial.git; git remote -v; git push -u origin master "
   ]
  },
  {
   "cell_type": "code",
   "execution_count": null,
   "metadata": {},
   "outputs": [],
   "source": [
    "# This line pulls, adds new files, commits changes, and pushes in one line.\n",
    "git pull; git add *; git commit -m 'Always use commit messages to detail your changes'; git push;"
   ]
  },
  {
   "cell_type": "code",
   "execution_count": null,
   "metadata": {},
   "outputs": [],
   "source": []
  },
  {
   "cell_type": "code",
   "execution_count": 2,
   "metadata": {},
   "outputs": [
    {
     "name": "stdout",
     "output_type": "stream",
     "text": [
      "/Users/fred/Projects/git-cheat-sheet\n"
     ]
    }
   ],
   "source": [
    "cd ~/Projects/git-cheat-sheet;pwd;"
   ]
  },
  {
   "cell_type": "code",
   "execution_count": null,
   "metadata": {},
   "outputs": [],
   "source": []
  },
  {
   "cell_type": "code",
   "execution_count": null,
   "metadata": {},
   "outputs": [],
   "source": []
  },
  {
   "cell_type": "code",
   "execution_count": null,
   "metadata": {},
   "outputs": [],
   "source": []
  },
  {
   "cell_type": "code",
   "execution_count": null,
   "metadata": {},
   "outputs": [],
   "source": []
  },
  {
   "cell_type": "code",
   "execution_count": null,
   "metadata": {},
   "outputs": [],
   "source": []
  },
  {
   "cell_type": "code",
   "execution_count": null,
   "metadata": {},
   "outputs": [],
   "source": []
  },
  {
   "cell_type": "code",
   "execution_count": null,
   "metadata": {},
   "outputs": [],
   "source": []
  },
  {
   "cell_type": "code",
   "execution_count": null,
   "metadata": {},
   "outputs": [],
   "source": []
  },
  {
   "cell_type": "code",
   "execution_count": null,
   "metadata": {},
   "outputs": [],
   "source": []
  },
  {
   "cell_type": "code",
   "execution_count": null,
   "metadata": {},
   "outputs": [],
   "source": []
  },
  {
   "cell_type": "code",
   "execution_count": null,
   "metadata": {},
   "outputs": [],
   "source": []
  },
  {
   "cell_type": "code",
   "execution_count": null,
   "metadata": {},
   "outputs": [],
   "source": []
  },
  {
   "cell_type": "code",
   "execution_count": null,
   "metadata": {},
   "outputs": [],
   "source": []
  },
  {
   "cell_type": "code",
   "execution_count": null,
   "metadata": {},
   "outputs": [],
   "source": []
  },
  {
   "cell_type": "code",
   "execution_count": null,
   "metadata": {},
   "outputs": [],
   "source": []
  }
 ],
 "metadata": {
  "kernelspec": {
   "display_name": "Bash",
   "language": "bash",
   "name": "bash"
  },
  "language_info": {
   "codemirror_mode": "shell",
   "file_extension": ".sh",
   "mimetype": "text/x-sh",
   "name": "bash"
  }
 },
 "nbformat": 4,
 "nbformat_minor": 2
}
