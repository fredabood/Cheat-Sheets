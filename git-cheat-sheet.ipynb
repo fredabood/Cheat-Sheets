{
 "cells": [
  {
   "cell_type": "markdown",
   "metadata": {},
   "source": [
    "# Git Cheat Sheet"
   ]
  },
  {
   "cell_type": "markdown",
   "metadata": {},
   "source": [
    "### Relevant XKCD: https://xkcd.com/1597/"
   ]
  },
  {
   "cell_type": "markdown",
   "metadata": {},
   "source": [
    "## Create a folder for all your repositories"
   ]
  },
  {
   "cell_type": "markdown",
   "metadata": {},
   "source": [
    "I have a directory in my home directory called Projects (`~/Projects`) where I store all my repositories.\n",
    "\n",
    "This is definitely an optional step. You're welcome to organize your files however you want. It's also not necessary to execute the `pwd` command if you know your current working directory."
   ]
  },
  {
   "cell_type": "code",
   "execution_count": null,
   "metadata": {},
   "outputs": [],
   "source": [
    "pwd;                    # pwd stands for 'print working directory', this will print your current path\n",
    "mkdir ~/Repositories;   # creating a folder for all your projcects\n",
    "cd ~/Repositories;      # navigating into said folder\n",
    "pwd;                    # printing the directory again "
   ]
  },
  {
   "cell_type": "markdown",
   "metadata": {},
   "source": [
    "## Global Git Configuration"
   ]
  },
  {
   "cell_type": "markdown",
   "metadata": {},
   "source": [
    "This should be done before working on specific repositories.\n",
    "\n",
    "`git version` at the beginning and `git config --global --list` at the end are both optional steps."
   ]
  },
  {
   "cell_type": "code",
   "execution_count": null,
   "metadata": {
    "scrolled": true
   },
   "outputs": [],
   "source": [
    "git version;                                            # prints your git version\n",
    "git config --global user.name \"Fred Abood\";             # assigns your name as the user to your global git settings\n",
    "git config --global user.email \"fred@fredabood.com\";    # assigns your email to your global git settings\n",
    "git config --global --list;                             # lists all global git settings"
   ]
  },
  {
   "cell_type": "markdown",
   "metadata": {},
   "source": [
    "## Initiating a Repo Locally for the First Time."
   ]
  },
  {
   "cell_type": "markdown",
   "metadata": {},
   "source": [
    "There are 2 ways to start a git repo on your local machine. You only need to pick one method for a given repository.\n",
    "\n",
    "Both methods require you to create the repo remotely (on Github, Gitlab, etc.) first."
   ]
  },
  {
   "cell_type": "markdown",
   "metadata": {},
   "source": [
    "#### Method 1:\n",
    "Create a git repo remotely then clone the repo and add all your files to the new directory. This example uses the SSH link to clone the repo, but you could use HTTPS if you'd prefer to authenticate with a username/password over SSH keys.\n",
    "\n",
    "If you're aware of what files are in your directories, you can skip the `ls` commands."
   ]
  },
  {
   "cell_type": "code",
   "execution_count": null,
   "metadata": {},
   "outputs": [],
   "source": [
    "git clone git@gitlab.com:fredabood/git-cheat-sheet.git;     # cloning the remote repo to your local machine\n",
    "ls;                                                         # listing all files in your current working directory\n",
    "cd git-cheat-sheet;                                         # navigating into the git repo we just cloned\n",
    "ls;                                                         # listing all the files the repo\n",
    "git status;                                                 # checking the status of the repo against the master branch"
   ]
  },
  {
   "cell_type": "markdown",
   "metadata": {},
   "source": [
    "#### Method 2:\n",
    "\n",
    "Initiate the repo in the directory where your work currently lives, then assign the remote repo as the master branch. Here we used the HTTPS link to authenticate with a username/password, but you could have just as easily used SSH as in the previous example.\n",
    "\n",
    "`git remote -v` is optional if you don't want to verify the remote repository."
   ]
  },
  {
   "cell_type": "code",
   "execution_count": null,
   "metadata": {},
   "outputs": [],
   "source": [
    "git init;                                                                # initiates a repo locally\n",
    "git add .;                                                               # adds all files to the repo\n",
    "git commit -m 'initial commit';                                          # commits all the files to the repo\n",
    "git remote add origin https://gitlab.com/fredabood/git-cheat-sheet.git;  # assigns a remote repo as the master branch\n",
    "git remote -v;                                                           # verifies the remote repository is there\n",
    "git push -u origin master                                                # pushes the commit to the remote repo"
   ]
  },
  {
   "cell_type": "markdown",
   "metadata": {},
   "source": [
    "## Commiting Changes to an Existing Repo"
   ]
  },
  {
   "cell_type": "markdown",
   "metadata": {},
   "source": [
    "This example that creates a new file, adds it to git, commits it to the repo, and pushes it to the master.\n",
    "\n",
    "The `ls` and `cat` commands as well as `git status` in this step are all optional."
   ]
  },
  {
   "cell_type": "code",
   "execution_count": null,
   "metadata": {},
   "outputs": [],
   "source": [
    "echo \"Isn't git great?!\" >> example.txt;    # creating a text file that contains\n",
    "ls;                                         # verifying the creation of the text file\n",
    "cat example.txt;                            # verifying the contents of the text file\n",
    "git status;                                 # checking git status, the file we created is currently untracked.\n",
    "git add example.txt;                        # adding the text file to git\n",
    "git status;                                 # verifying the text file is now tracked\n",
    "git commit -m \"Adding example.txt file\";    # committing the file to git\n",
    "git status;                                 # check status to see it's been committed\n",
    "git push origin master;                     # pushing the commit to the master branch"
   ]
  },
  {
   "cell_type": "markdown",
   "metadata": {},
   "source": [
    "## Add vs Commit vs Push"
   ]
  },
  {
   "cell_type": "markdown",
   "metadata": {},
   "source": [
    "`git add` adds files to the Git index, which is a staging area for objects prepared to be commited  \n",
    "`git commit` commits the files in the index to the repository  \n",
    "`git push` sends all the pending changes to the remote repository"
   ]
  },
  {
   "cell_type": "markdown",
   "metadata": {},
   "source": [
    "#### Different ways to `git add`"
   ]
  },
  {
   "cell_type": "markdown",
   "metadata": {},
   "source": [
    "|Bash Command|New Files|Modified Files|Deleted Files||\n",
    "|------------|---------|--------------|-------------|-------| \n",
    "|git add -A|Yes|Yes|Yes|Stage all files (new, modified, deleted)|\n",
    "|git add . |Yes|Yes|No|Stage new & modified files only|\n",
    "|git add * |Yes|Yes|No|Stage new & modified files only|\n",
    "|git add -u|No|Yes|Yes|Stage modified & deleted files only|\n",
    "|git commit -a|No|Yes|Yes|Combines the add and commit steps, staging modified & deleted files only|"
   ]
  },
  {
   "cell_type": "markdown",
   "metadata": {},
   "source": [
    "It's noteworthy that ` . ` is a Bash shortcut for the current working directory and the ` * ` is a similar shortcut for all files in the working directory. They aren't git specific shortcuts, we're simply taking advantage of them in the `git add` commands above."
   ]
  },
  {
   "cell_type": "markdown",
   "metadata": {},
   "source": [
    "## Deleting Files"
   ]
  },
  {
   "cell_type": "markdown",
   "metadata": {},
   "source": [
    "`rm <filename>` deletes the file from the local file system, the change must then be staged with a `git add`  \n",
    "`git rm <filename>` combines `rm` and `git add` into one step to delete the file and stage the change  \n",
    "`git rm --cached <filename>` removes the file from the git index without deleting it from the local file system"
   ]
  },
  {
   "cell_type": "markdown",
   "metadata": {},
   "source": [
    "## Stringing Bash Commands Together"
   ]
  },
  {
   "cell_type": "markdown",
   "metadata": {},
   "source": [
    "Semicolons allow you to string commands together into a single line while still executing them sequentially.\n",
    "\n",
    "All optional steps from above are removed in the commands below, but you could easily add then in with semicolons if you want to. "
   ]
  },
  {
   "cell_type": "markdown",
   "metadata": {},
   "source": [
    "#### Init a new repo locally, assign a master branch, add & commit files, and push to the master in one line of code"
   ]
  },
  {
   "cell_type": "code",
   "execution_count": null,
   "metadata": {},
   "outputs": [],
   "source": [
    "git init; git add .; git commit -m 'Initial Commit'; git remote add origin git@gitlab.com:fredabood/git-cheat-sheet.git; git push -u origin master;"
   ]
  },
  {
   "cell_type": "markdown",
   "metadata": {},
   "source": [
    "#### Pull, add & commit changes, and push from an existing repo in one line."
   ]
  },
  {
   "cell_type": "code",
   "execution_count": null,
   "metadata": {},
   "outputs": [],
   "source": [
    "git pull; git add *; git commit -m 'REPLACE ME WITH YOUR COMMIT MESSAGE'; git push;"
   ]
  },
  {
   "cell_type": "markdown",
   "metadata": {},
   "source": [
    "--------"
   ]
  },
  {
   "cell_type": "markdown",
   "metadata": {},
   "source": [
    "## Bonus: Installing the Bash kernel for Jupyter"
   ]
  },
  {
   "cell_type": "markdown",
   "metadata": {},
   "source": [
    "This is only required if you want to run Bash commands in from Jupyter Notebooks. It's not required to run Bash commands from the terminal in Jupyter."
   ]
  },
  {
   "cell_type": "code",
   "execution_count": null,
   "metadata": {},
   "outputs": [],
   "source": [
    "pip install bash_kernel\n",
    "python -m bash_kernel.install"
   ]
  },
  {
   "cell_type": "markdown",
   "metadata": {},
   "source": [
    "You can read more about the Bash kernel for Jupyter here: https://github.com/takluyver/bash_kernel  \n",
    "In fact, there are Jupyter kernels for a lot of other languages as well. You can find a list of them here: https://github.com/jupyter/jupyter/wiki/Jupyter-kernels  "
   ]
  }
 ],
 "metadata": {
  "kernelspec": {
   "display_name": "Bash",
   "language": "bash",
   "name": "bash"
  },
  "language_info": {
   "codemirror_mode": "shell",
   "file_extension": ".sh",
   "mimetype": "text/x-sh",
   "name": "bash"
  }
 },
 "nbformat": 4,
 "nbformat_minor": 2
}
